{
 "cells": [
  {
   "cell_type": "code",
   "execution_count": 2,
   "id": "5ef5d4a6",
   "metadata": {},
   "outputs": [],
   "source": [
    "import re\n",
    "from rdkit import Chem\n",
    "from rdkit.Chem import Descriptors, rdMolHash, rdmolops\n",
    "from Bio.SeqUtils import seq3 as seq12seq3\n",
    "from Bio.SeqUtils import seq1 as seq32seq1\n",
    "from rdkit import RDLogger\n",
    "RDLogger.DisableLog('rdApp.*')\n",
    "\n",
    "def tranDict(dict_):\n",
    "    return {value:key for (key,value) in dict_.items()}\n",
    "\n",
    "\n",
    "protein_letters_1to3 = {\n",
    "    \"A\": \"ala\",\n",
    "    #\"B\": \"asx\", # aspartic acid or asparagine (D or N)\n",
    "    \"C\": \"cys\",\n",
    "    \"D\": \"asp\",\n",
    "    \"E\": \"glu\",\n",
    "    \"F\": \"phe\",\n",
    "    \"G\": \"gly\",\n",
    "    \"H\": \"his\",\n",
    "    \"I\": \"ile\",\n",
    "    \"K\": \"lys\",\n",
    "    \"L\": \"leu\",\n",
    "    \"M\": \"met\",\n",
    "    \"N\": \"asn\",\n",
    "    \"O\": \"pyl\",  # pyrrolysine\n",
    "    \"P\": \"pro\",\n",
    "    \"Q\": \"gln\",\n",
    "    \"R\": \"arg\",\n",
    "    \"S\": \"ser\",\n",
    "    \"T\": \"thr\",\n",
    "    \"U\": \"sec\", # selenocysteine\n",
    "    \"V\": \"val\",\n",
    "    \"W\": \"trp\",\n",
    "    \"Y\": \"tyr\",\n",
    "    #\"X\": \"Xaa\", # unknown or 'other' amino acid\n",
    "    \"Z\": \"glx\" # glutamic acid or glutamine (E or Q)\n",
    "    #\"J\": \"Xle\", # leucine or isoleucine (L or I, used in NMR)\n",
    "}\n",
    "\n",
    "protein_letters_3to1 = tranDict(protein_letters_1to3)\n",
    "\n",
    "letter_3 = list(protein_letters_1to3.values())\n",
    "letter_1 = list(protein_letters_1to3.keys())\n",
    "\n",
    "Rs = {\n",
    "    'A': 'C[C@H](N)C(=O)O', #'N[C@@H](C)C(=O)O'\n",
    "    'C': 'N[C@@H](CS)C(=O)O',\n",
    "    'D': 'N[C@@H](CC(=O)O)C(=O)O', #'N[C@@H](CC(=O)[O-])C(=O)O'\n",
    "    'E': 'N[C@@H](CCC(=O)O)C(=O)O', # 'N[C@@H](CCC(=O)[O-])C(=O)O'\n",
    "    'F': 'N[C@@H](Cc1ccccc1)C(=O)O', \n",
    "    'G': 'NCC(=O)O',\n",
    "    'H': 'N[C@@H](Cc1c[nH]cn1)C(=O)O',\n",
    "    'I': 'CC[C@H](C)[C@H](N)C(=O)O', # 'N[C@@H](C(C)CC)C(=O)O',\n",
    "    'K': 'NCCCC[C@H](N)C(=O)O', # 'N[C@@H](CCCC[NH3+])C(=O)O'\n",
    "    'L': 'CC(C)C[C@H](N)C(=O)O', # 'N[C@@H](CC(C)C)C(=O)O',\n",
    "    'M': 'CSCC[C@H](N)C(=O)O', # 'N[C@@H](CCSC)C(=O)O',\n",
    "    'N': 'NC(=O)C[C@H](N)C(=O)O', # 'N[C@@H](CC(=O)N)C(=O)O'\n",
    "    'O': 'N1[C@@H](C[C@@H](O)C1)C(=O)O',\n",
    "    'P': 'O=C(O)[C@@H]1CCCN1', # 'N1[C@@H](CCC1)C(=O)O',\n",
    "    'Q': 'NC(=O)CC[C@H](N)C(=O)O', # 'N[C@@H](CCC(=O)N)C(=O)O'\n",
    "    'R': 'N=C(N)NCCC[C@H](N)C(=O)O', # 'N[C@@H](CCCN:C(:N):N)C(=O)O',\n",
    "    'S': 'N[C@@H](CO)C(=O)O',\n",
    "    'T': 'C[C@@H](O)[C@H](N)C(=O)O', # 'N[C@@H](C(O)C)C(=O)O',\n",
    "    'U': 'O=C(O)[C@@H](N)C[SeH]',\n",
    "    'V': 'CC(C)[C@H](N)C(=O)O', # N[C@@H](C(C)C)C(=O)O',\n",
    "    'W': 'N[C@@H](Cc1c[nH]c2ccccc12)C(=O)O', \n",
    "    'Y': 'N[C@@H](Cc1ccc(O)cc1)C(=O)O', \n",
    "    'Z': 'C(CC(=O)N)[C@@H](C(=O)O)N', # 'N1[C@@H](CCC1(=O))C(=O)O'\n",
    "    'A001': 'CC(C1=CC=C(C=C1)C[C@@H](C(O)=O)N)=O',\n",
    "    'A002': 'OC([C@H](CC1=C(C(C)=O)C=CC=C1)N)=O',\n",
    "    'A003': 'N[C@H](C(O)=O)CC1=CC=C(C=C1)C(C2=CC=CC=C2)=O'\n",
    "\n",
    "    # 'a': 'N[C@H](C)C(=O)O',\n",
    "    # 'r': 'N[C@H](CCCN:C(:N):N)C(=O)O',\n",
    "    # 'n': 'N[C@H](C(=O)N)C(=O)O',\n",
    "    # 'd': 'N[C@H](C(=O)O)C(=O)O', # N[C@H](C(=O)[O-])C(=O)O\n",
    "    # 'c': 'N[C@H](CS)C(=O)O',\n",
    "    # 'q': 'N[C@H](CC(=O)N)C(=O)O',\n",
    "    # 'e': 'N[C@H](CC(=O)[O-])C(=O)O',\n",
    "    # 'h': 'N[C@H](Cc1nc[nH]c1)C(=O)O',\n",
    "    # 'i': 'N[C@H](C(C)CC)C(=O)O',\n",
    "    # 'l': 'N[C@H](CC(C)C)C(=O)O',\n",
    "    # 'k': 'NCCCC[C@H](N)C(=O)O', #'N[C@H](CCCC[NH3+])C(=O)O'\n",
    "    # 'm': 'N[C@H](CCSC)C(=O)O',\n",
    "    # 'f': 'N[C@H](Cc1ccccc1)C(=O)O',\n",
    "    # 'p': 'N1[C@H](CCC1)C(=O)O',\n",
    "    # 's': 'N[C@H](CO)C(=O)O',\n",
    "    # 't': 'N[C@H](C(O)C)C(=O)O',\n",
    "    # 'w': 'N[C@H](Cc1c2ccccc2[nH]c1)C(=O)O',\n",
    "    # 'y': 'N[C@H](Cc1ccc(O)cc1)C(=O)O',\n",
    "    #'v': 'N[C@H](C(C)C)C(=O)O',\n",
    "    #'A(S)PRO': 'N1[C@@H](C[C@H](N)C1)C(=O)O',\n",
    "    #'A(R)PRO': 'N1[C@@H](C[C@@H](N)C1)C(=O)O',\n",
    "    #'STY': 'N[C@@H](Cc1ccc(OS(=O)(=O)O)cc1)C(=O)O',\n",
    "    #'GLA': 'N[C@@H](C(C(=O)[O-])(C(=O)[O-]))C(=O)O'\n",
    "    }\n",
    "\n",
    "def readSmiles(smiles, addh=False):\n",
    "    if isinstance(smiles, str):\n",
    "        mol = Chem.MolFromSmiles(smiles)\n",
    "    else:\n",
    "        mol = smiles\n",
    "    if addh:\n",
    "        mol = Chem.AddHs(mol)\n",
    "    return mol\n",
    "\n",
    "def seq2smiRDKit(seq):\n",
    "    mol = Chem.MolFromSequence(seq)\n",
    "    print(Chem.MolToSmiles(mol))\n",
    "    return mol\n",
    "\n",
    "def countNeighbourAtomNumber(atom, s):\n",
    "    count = 0\n",
    "    for a in atom.GetNeighbors():\n",
    "        if atom.GetSymbol()==s:\n",
    "            count += 1\n",
    "    return count\n",
    "\n",
    "def getSubstructureAtomIndex(smiles, substructure_smiles):\n",
    "    mol = readSmiles(smiles)\n",
    "    substructure = Chem.MolFromSmarts(substructure_smiles)\n",
    "    return list(mol.GetSubstructMatch(substructure))\n",
    "\n",
    "def Nterm2Rgroup(smiles, r_index=1):\n",
    "    mol = readSmiles(smiles, addh=True)\n",
    "    hit_ats = getSubstructureAtomIndex(mol, '[H]OC(=O)[C@]([H])([*])N([H])[*]')\n",
    "    for atom in mol.GetAtoms():\n",
    "        if atom.GetIdx() in hit_ats:\n",
    "            if atom.GetSymbol()=='H':\n",
    "                nei = atom.GetNeighbors()\n",
    "                if len(nei)==1 and nei[0].GetSymbol()=='N':\n",
    "                    atom_N = nei[0].GetIdx()\n",
    "                    atom_H = atom.GetIdx()\n",
    "                    break\n",
    "    bond_id = mol.GetBondBetweenAtoms(atom_N, atom_H).GetIdx()\n",
    "    new_mol = Chem.FragmentOnBonds(mol, [bond_id])\n",
    "    smi1, smi2 = Chem.MolToSmiles(new_mol).split('.')\n",
    "    if len(smi1)>=len(smi2):\n",
    "        smi = smi1\n",
    "    elif len(smi2)>len(smi1):\n",
    "        smi = smi2\n",
    "    return re.sub('\\[.*\\*\\]', f'[*:{r_index}]', smi)\n",
    "\n",
    "def Cterm2Rgroup(smiles, r_index=1):\n",
    "    mol = readSmiles(smiles)\n",
    "    hit_ats = getSubstructureAtomIndex(mol, 'OC(=O)CN' )# N[C@@H](*)C(=O)O\n",
    "    bond_id = None\n",
    "        \n",
    "    for bond in mol.GetBonds():\n",
    "        if bond.GetBondType() == Chem.rdchem.BondType.SINGLE:\n",
    "            if bond.GetBeginAtom().GetSymbol() == 'C' \\\n",
    "                and bond.GetEndAtom().GetSymbol() == 'O'\\\n",
    "                and bond.GetBeginAtom().GetIdx() in hit_ats\\\n",
    "                and bond.GetEndAtom().GetIdx() in hit_ats:\n",
    "                bond_id = bond.GetIdx()\n",
    "            elif bond.GetBeginAtom().GetSymbol() == 'O' \\\n",
    "                and bond.GetEndAtom().GetSymbol() == 'C'\\\n",
    "                and bond.GetBeginAtom().GetIdx() in hit_ats\\\n",
    "                and bond.GetEndAtom().GetIdx() in hit_ats:\n",
    "                bond_id = bond.GetIdx()\n",
    "    new_mol = Chem.FragmentOnBonds(mol, [bond_id])\n",
    "    smi1, smi2 = Chem.MolToSmiles(new_mol).split('.')\n",
    "    if len(smi1)>=len(smi2):\n",
    "        smi = smi1\n",
    "    elif len(smi2)>len(smi1):\n",
    "        smi = smi2\n",
    "    return re.sub('\\[.*\\*\\]', f'[*:{r_index}]', smi)\n",
    "\n",
    "def linkTwoAminoAcidResidues(r1, r2, ready_smiles=None):\n",
    "    # r1 left residue, change COOH\n",
    "    if ready_smiles is None:\n",
    "        r1 = Cterm2Rgroup(r1)\n",
    "    else:\n",
    "        r1 = ready_smiles\n",
    "    # r2 right residue, change NH2\n",
    "    r2 = Nterm2Rgroup(r2)\n",
    "    r2_ = Cterm2Rgroup(r2, r_index=2)\n",
    "    \n",
    "    # linked two fragment\n",
    "    mol = Chem.MolFromSmiles('.'.join([r1, r2]))\n",
    "    # linked two fragment ready for next amino acid residue\n",
    "    mol_ = Chem.MolFromSmiles('.'.join([r1, r2_]))\n",
    "    ready_smiles = Chem.MolToSmiles(rdmolops.molzip(mol_))\n",
    "    ready_smiles = ready_smiles.replace('[*:2]', '[*:1]')\n",
    "    return rdmolops.molzip(mol), ready_smiles\n",
    "\n",
    "def MOL(smiles):\n",
    "    return Chem.MolFromSmiles(smiles)\n",
    "\n",
    "def smilesMW(smiles):\n",
    "    return round(Descriptors.ExactMolWt(readSmiles(smiles)),2)\n",
    "\n",
    "def smiles2formula(smiles):\n",
    "    return rdMolHash.MolHash(readSmiles(smiles), rdMolHash.HashFunction.MolFormula)\n",
    "\n",
    "def seqMW(seq):\n",
    "    mol = Chem.MolFromFASTA(seq)\n",
    "    return round(Chem.Descriptors.ExactMolWt(mol),2)\n",
    "\n",
    "def seq2formula(seq):\n",
    "    mol = Chem.MolFromFASTA(seq)\n",
    "    return Chem.rdMolHash.MolHash(mol, Chem.rdMolHash.HashFunction.MolFormula)\n",
    "\n",
    "def MingDuSeq2smi(seq, aard=None):\n",
    "    \"\"\"\n",
    "    seq: sequence of amino acid residue\n",
    "    aard: dictionary of amino acid residue name pair\n",
    "    \n",
    "    \n",
    "    seq = 'Ala-A001-Cys-A003'\n",
    "    seq = 'HAEGTFTSDVSSYLEGQAAREFIAWLVRGR'\n",
    "    \"\"\"\n",
    "    seq = seq.strip()\n",
    "    amino_names = None\n",
    "    \n",
    "    if '-' in seq:\n",
    "        amino_names = seq.split('-')\n",
    "        without_hyphen = False\n",
    "    else:\n",
    "        without_hyphen = True\n",
    "        amino_names = list(seq)\n",
    "    amino_names = [x for x in amino_names if x!='']\n",
    "    \n",
    "    # get all amino acid SMILES\n",
    "    amino_smiles = []\n",
    "    if aard is None:\n",
    "        aard = Rs\n",
    "    for name in amino_names:\n",
    "        if name not in aard.keys():\n",
    "            if name.lower() not in protein_letters_3to1.keys():\n",
    "                if without_hyphen:\n",
    "                    print('Input sequence should be splited by \"-\".')\n",
    "                return\n",
    "            name = protein_letters_3to1[name.lower()]\n",
    "        amino_smiles.append(aard[name])\n",
    "    \n",
    "    # Link amino acid \n",
    "    \n",
    "    if len(amino_smiles)==1:\n",
    "        smi = amino_smiles[0]\n",
    "        r1 = Chem.MolFromSmiles(smi)\n",
    "    else:\n",
    "        r1 = amino_smiles[0]\n",
    "        ready_smiles = None\n",
    "        for i in range(1, len(amino_smiles)):\n",
    "            r2 = amino_smiles[i]\n",
    "            r1, ready_smiles = linkTwoAminoAcidResidues(r1, r2, ready_smiles)\n",
    "        smi = Chem.MolToSmiles(r1)\n",
    "        \n",
    "    mw = smilesMW(r1)\n",
    "    formula = smiles2formula(r1)\n",
    "    # print(smi)\n",
    "    # print('MW:', mw)\n",
    "    # print('Formula:', formula)\n",
    "    return smi, mw, formula"
   ]
  },
  {
   "cell_type": "code",
   "execution_count": null,
   "id": "01d671f5",
   "metadata": {},
   "outputs": [],
   "source": []
  },
  {
   "cell_type": "markdown",
   "id": "af24cdc1",
   "metadata": {},
   "source": [
    "# 3-letter 支持自定义氨基酸"
   ]
  },
  {
   "cell_type": "code",
   "execution_count": 6,
   "id": "1944b371",
   "metadata": {},
   "outputs": [
    {
     "name": "stdout",
     "output_type": "stream",
     "text": [
      "分子式 C15H24N4O9S\n",
      "分子量 436.13\n"
     ]
    },
    {
     "data": {
      "image/png": "[encoded data removed]",
      "text/plain": [
       "<rdkit.Chem.rdchem.Mol at 0x7f2c446565d0>"
      ]
     },
     "execution_count": 6,
     "metadata": {},
     "output_type": "execute_result"
    }
   ],
   "source": [
    "smi, mw, formula = MingDuSeq2smi('Ala-Cys-Asp-Glu')\n",
    "print(\"分子式\", formula)\n",
    "print(\"分子量\", mw)\n",
    "Chem.MolFromSmiles(smi)"
   ]
  },
  {
   "cell_type": "code",
   "execution_count": 7,
   "id": "57774e8a",
   "metadata": {},
   "outputs": [
    {
     "name": "stdout",
     "output_type": "stream",
     "text": [
      "分子式 C37H46N6O13S\n",
      "分子量 814.28\n"
     ]
    },
    {
     "data": {
      "image/png": "[encoded data removed]",
      "text/plain": [
       "<rdkit.Chem.rdchem.Mol at 0x7f2c44658850>"
      ]
     },
     "execution_count": 7,
     "metadata": {},
     "output_type": "execute_result"
    }
   ],
   "source": [
    "smi, mw, formula = MingDuSeq2smi('Ala-Cys-Asp-Glu-A001-A002')\n",
    "print(\"分子式\", formula)\n",
    "print(\"分子量\", mw)\n",
    "Chem.MolFromSmiles(smi)"
   ]
  },
  {
   "cell_type": "markdown",
   "id": "9516d8b7",
   "metadata": {},
   "source": [
    "# 1-letter 只适用天然氨基酸"
   ]
  },
  {
   "cell_type": "code",
   "execution_count": 8,
   "id": "e0b24f67",
   "metadata": {},
   "outputs": [
    {
     "name": "stdout",
     "output_type": "stream",
     "text": [
      "分子式 C15H24N4O9S\n",
      "分子量 436.13\n"
     ]
    },
    {
     "data": {
      "image/png": "[encoded data removed]",
      "text/plain": [
       "<rdkit.Chem.rdchem.Mol at 0x7f2c44656cb0>"
      ]
     },
     "execution_count": 8,
     "metadata": {},
     "output_type": "execute_result"
    }
   ],
   "source": [
    "smi, mw, formula = MingDuSeq2smi('ACDE')\n",
    "print(\"分子式\", formula)\n",
    "print(\"分子量\", mw)\n",
    "Chem.MolFromSmiles(smi)"
   ]
  },
  {
   "cell_type": "code",
   "execution_count": 9,
   "id": "143875bb",
   "metadata": {},
   "outputs": [
    {
     "name": "stdout",
     "output_type": "stream",
     "text": [
      "分子式 C15H24N4O9S\n",
      "分子量 436.13\n"
     ]
    },
    {
     "data": {
      "image/png": "[encoded data removed]",
      "text/plain": [
       "<rdkit.Chem.rdchem.Mol at 0x7f2c456fd4e0>"
      ]
     },
     "execution_count": 9,
     "metadata": {},
     "output_type": "execute_result"
    }
   ],
   "source": [
    "smi, mw, formula = MingDuSeq2smi('A-C-D-E')\n",
    "print(\"分子式\", formula)\n",
    "print(\"分子量\", mw)\n",
    "Chem.MolFromSmiles(smi)"
   ]
  }
 ],
 "metadata": {
  "kernelspec": {
   "display_name": "Python 3 (ipykernel)",
   "language": "python",
   "name": "python3"
  },
  "language_info": {
   "codemirror_mode": {
    "name": "ipython",
    "version": 3
   },
   "file_extension": ".py",
   "mimetype": "text/x-python",
   "name": "python",
   "nbconvert_exporter": "python",
   "pygments_lexer": "ipython3",
   "version": "3.7.13"
  }
 },
 "nbformat": 4,
 "nbformat_minor": 5
}
